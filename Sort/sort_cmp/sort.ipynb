{
 "cells": [
  {
   "cell_type": "markdown",
   "metadata": {
    "collapsed": true
   },
   "source": [
    "# 各类排序算法性能对比"
   ]
  },
  {
   "cell_type": "markdown",
   "metadata": {},
   "source": [
    "### 排序算法复杂度整理\n",
    "\n",
    "| 排序算法 | English | 时 间 复 杂 度 | 空 间 复 杂 度 |\n",
    "| :---: | :---: | :---: | :---: |\n",
    "| 冒泡排序 | BubbleSort | $O(n^2)$        | $O(1)$          |\n",
    "| 选择排序 | SelectSort | $O(n^2)$        | $O(1)$          |\n",
    "| 插入排序 | InsertSort | $O(n^2)$        | $O(1)$          |\n",
    "| 希尔排序 | ShellSort  | $O(n^{1.5})$       | $O(1)$          |\n",
    "| 快速排序 | QuickSort  | $O(Nlog_2N)$ | $O(Nlog_2N)$ |\n",
    "| 归并排序 | MergeSort  | $O(Nlog_2N)$ | $O(1)$          |\n",
    "| 堆排序   | HeapSort   | $O(Nlog_2N)$ | $O(1)$          |"
   ]
  },
  {
   "cell_type": "markdown",
   "metadata": {},
   "source": [
    "### 初始化"
   ]
  },
  {
   "cell_type": "code",
   "execution_count": 1,
   "metadata": {
    "collapsed": true
   },
   "outputs": [],
   "source": [
    "import random\n",
    "import copy, time\n",
    "from sort import *\n",
    "\n",
    "import pandas as pd\n",
    "import numpy as np\n",
    "import matplotlib.pyplot as plt\n",
    "\n",
    "# 生成随机数\n",
    "NumNumbers = 300\n",
    "RandomNumbers = [random.uniform(0,10) for x in range(0,NumNumbers,1)]\n",
    "\n",
    "# 待测试排序算法\n",
    "SortList = [BubbleSort,SelectSort,InsertSort,QuickSort,ShellSort,MergeSort,HeapSort]"
   ]
  },
  {
   "cell_type": "markdown",
   "metadata": {},
   "source": [
    "### 基本排序测试"
   ]
  },
  {
   "cell_type": "code",
   "execution_count": 2,
   "metadata": {},
   "outputs": [
    {
     "name": "stdout",
     "output_type": "stream",
     "text": [
      "BubbleSort:\tSwapCount =      21161 ,\tSearchCount =      89700,\tTime Used:  0.072s\n",
      "0.011,  0.058,  ...,  9.976,  9.978,  (min = 0.011, max = 9.978)\n",
      "\n",
      "SelectSort:\tSwapCount =        291 ,\tSearchCount =      44850,\tTime Used:  0.019s\n",
      "0.011,  0.058,  ...,  9.976,  9.978,  (min = 0.011, max = 9.978)\n",
      "\n",
      "InsertSort:\tSwapCount =          0 ,\tSearchCount =      21460,\tTime Used:  0.012s\n",
      "0.011,  0.058,  ...,  9.976,  9.978,  (min = 0.011, max = 9.978)\n",
      "\n",
      "QuickSort:\tSwapCount =        814 ,\tSearchCount =       2530,\tTime Used:  0.003s\n",
      "0.011,  0.058,  ...,  9.976,  9.978,  (min = 0.011, max = 9.978)\n",
      "\n",
      "ShellSort:\tSwapCount =          0 ,\tSearchCount =       3777,\tTime Used:  0.004s\n",
      "0.011,  0.058,  ...,  9.976,  9.978,  (min = 0.011, max = 9.978)\n",
      "\n",
      "MergeSort:\tSwapCount =          0 ,\tSearchCount =       2375,\tTime Used:  0.003s\n",
      "0.011,  0.058,  ...,  9.976,  9.978,  (min = 0.011, max = 9.978)\n",
      "\n",
      "HeapSort:\tSwapCount =       2183 ,\tSearchCount =      24378,\tTime Used:  0.023s\n",
      "0.011,  0.058,  ...,  9.976,  9.978,  (min = 0.011, max = 9.978)\n",
      "\n"
     ]
    }
   ],
   "source": [
    "for cSort in SortList:\n",
    "    SortTestAll(cSort, RandomNumbers, PrintFlag=True)"
   ]
  },
  {
   "cell_type": "markdown",
   "metadata": {},
   "source": [
    "### MonteCarlo测试"
   ]
  },
  {
   "cell_type": "markdown",
   "metadata": {},
   "source": [
    "***创建测试函数***"
   ]
  },
  {
   "cell_type": "code",
   "execution_count": 3,
   "metadata": {
    "collapsed": true
   },
   "outputs": [],
   "source": [
    "def SortTestAllRep(cSortList, NumLen = 100, Times = 10):\n",
    "    # init\n",
    "    keys = ['Swap','Search','Time']\n",
    "    keysAvg = ['AvgSwap','AvgSearch','AvgTime']\n",
    "    TestResult = {}\n",
    "    for cSort in cSortList:\n",
    "        TestResult[cSort.__name__] = dict.fromkeys(keys+keysAvg)\n",
    "        for key, keyAvg in zip(keys, keysAvg):\n",
    "            TestResult[cSort.__name__][key] = []\n",
    "            TestResult[cSort.__name__][keyAvg] = 0\n",
    "    \n",
    "    # run tests\n",
    "    for i in range(Times):\n",
    "        RandomNumbers = [random.uniform(0,10) for x in range(0,NumLen,1)]\n",
    "        for cSort in cSortList:\n",
    "            result = SortTestAll(cSort, RandomNumbers, PrintFlag=False)\n",
    "            for key in keys:\n",
    "                TestResult[cSort.__name__][key].append(result[key])\n",
    "    \n",
    "    # analyse\n",
    "    for cSort in cSortList:\n",
    "        for key, keyAvg in zip(keys, keysAvg):\n",
    "            TestResult[cSort.__name__][keyAvg] = sum(TestResult[cSort.__name__][key])/Times\n",
    "    \n",
    "    return TestResult"
   ]
  },
  {
   "cell_type": "markdown",
   "metadata": {},
   "source": [
    "***测试算法***"
   ]
  },
  {
   "cell_type": "code",
   "execution_count": 5,
   "metadata": {},
   "outputs": [],
   "source": [
    "# run test (cost a period of time, suggest run once)\n",
    "TestResult = SortTestAllRep(SortList, NumLen = 1000, Times = 10)"
   ]
  },
  {
   "cell_type": "code",
   "execution_count": 6,
   "metadata": {},
   "outputs": [
    {
     "name": "stdout",
     "output_type": "stream",
     "text": [
      "           AvgSearch AvgSwap     AvgTime\n",
      "BubbleSort    999000  249658      0.5773\n",
      "HeapSort      258037    9042      0.2493\n",
      "InsertSort    250657       0      0.1323\n",
      "MergeSort       9714       0  0.00780001\n",
      "QuickSort      10843    3049      0.0076\n",
      "SelectSort    499500     993      0.2167\n",
      "ShellSort      15681       0      0.0115\n"
     ]
    }
   ],
   "source": [
    "# using pandas to analyse\n",
    "dfTest = pd.DataFrame(TestResult).T\n",
    "keysToAnalyse = ['AvgSearch','AvgSwap','AvgTime']\n",
    "dfTestToPrint = dfTest.loc[:,keysToAnalyse]\n",
    "print dfTestToPrint"
   ]
  },
  {
   "cell_type": "markdown",
   "metadata": {},
   "source": [
    "***作图分析***"
   ]
  },
  {
   "cell_type": "code",
   "execution_count": 8,
   "metadata": {},
   "outputs": [
    {
     "data": {
      "image/png": "[encoded data removed]",
      "text/plain": [
       "<matplotlib.figure.Figure at 0xa4206a0>"
      ]
     },
     "metadata": {},
     "output_type": "display_data"
    }
   ],
   "source": [
    "# parameters\n",
    "NumAnalyse = len(keysToAnalyse)\n",
    "fig = plt.figure()\n",
    "fig.set_figheight(5)\n",
    "fig.set_figwidth(15)\n",
    "bar_width = 0.7\n",
    "opacity = 0.4\n",
    "\n",
    "# bar plots\n",
    "for i,key in zip(range(NumAnalyse),keysToAnalyse):\n",
    "    data = dfTest.loc[:,key]\n",
    "    ax = fig.add_subplot(1,NumAnalyse,i+1)\n",
    "    index = np.arange(len(data))\n",
    "    rects = plt.bar(index, data, bar_width,\n",
    "                     alpha=opacity,\n",
    "                     color='b')\n",
    "    plt.ylabel(key)\n",
    "    plt.xticks(index, dfTest.index, rotation=90)\n",
    "    plt.legend()\n",
    "    plt.tight_layout()\n",
    "plt.show()"
   ]
  }
 ],
 "metadata": {
  "kernelspec": {
   "display_name": "Python 2",
   "language": "python",
   "name": "python2"
  },
  "language_info": {
   "codemirror_mode": {
    "name": "ipython",
    "version": 2
   },
   "file_extension": ".py",
   "mimetype": "text/x-python",
   "name": "python",
   "nbconvert_exporter": "python",
   "pygments_lexer": "ipython2",
   "version": "2.7.13"
  }
 },
 "nbformat": 4,
 "nbformat_minor": 2
}
